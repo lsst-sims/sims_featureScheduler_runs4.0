{
 "cells": [
  {
   "cell_type": "code",
   "execution_count": 1,
   "id": "ae3baf3a-f575-49a4-a24d-c8d78494f4e4",
   "metadata": {},
   "outputs": [],
   "source": [
    "# Let's see if we can generate a simple ToO distribution for SS objects"
   ]
  },
  {
   "cell_type": "code",
   "execution_count": 9,
   "id": "17e1174d-7236-46a9-adf7-f85d44cd67be",
   "metadata": {},
   "outputs": [],
   "source": [
    "import sqlite3\n",
    "import numpy as np\n",
    "import pandas as pd\n",
    "import matplotlib.pylab as plt\n",
    "%matplotlib inline\n",
    "\n",
    "from gen_events import gen_sso_events"
   ]
  },
  {
   "cell_type": "code",
   "execution_count": 19,
   "id": "46f22fb2-d620-472c-9c4a-454d29a27f9f",
   "metadata": {},
   "outputs": [],
   "source": [
    "con = sqlite3.connect('baseline_v4.0_10yrs.db')\n",
    "\n",
    "df_twi = pd.read_sql(\"select night,solarElong from observations where scheduler_note like '%ToO, SSO_twi%';\", con)\n",
    "df_night = pd.read_sql(\"select night,solarElong from observations where scheduler_note like '%ToO, SSO_nig%';\", con)\n",
    "con.close()"
   ]
  },
  {
   "cell_type": "code",
   "execution_count": 20,
   "id": "6f07973b-e0de-4871-8853-9577d16b9cbe",
   "metadata": {},
   "outputs": [
    {
     "data": {
      "text/html": [
       "<div>\n",
       "<style scoped>\n",
       "    .dataframe tbody tr th:only-of-type {\n",
       "        vertical-align: middle;\n",
       "    }\n",
       "\n",
       "    .dataframe tbody tr th {\n",
       "        vertical-align: top;\n",
       "    }\n",
       "\n",
       "    .dataframe thead th {\n",
       "        text-align: right;\n",
       "    }\n",
       "</style>\n",
       "<table border=\"1\" class=\"dataframe\">\n",
       "  <thead>\n",
       "    <tr style=\"text-align: right;\">\n",
       "      <th></th>\n",
       "      <th>night</th>\n",
       "      <th>solarElong</th>\n",
       "    </tr>\n",
       "  </thead>\n",
       "  <tbody>\n",
       "    <tr>\n",
       "      <th>0</th>\n",
       "      <td>4</td>\n",
       "      <td>145.338864</td>\n",
       "    </tr>\n",
       "    <tr>\n",
       "      <th>1</th>\n",
       "      <td>4</td>\n",
       "      <td>147.778819</td>\n",
       "    </tr>\n",
       "    <tr>\n",
       "      <th>2</th>\n",
       "      <td>4</td>\n",
       "      <td>147.937473</td>\n",
       "    </tr>\n",
       "    <tr>\n",
       "      <th>3</th>\n",
       "      <td>4</td>\n",
       "      <td>145.337569</td>\n",
       "    </tr>\n",
       "    <tr>\n",
       "      <th>4</th>\n",
       "      <td>4</td>\n",
       "      <td>147.777527</td>\n",
       "    </tr>\n",
       "    <tr>\n",
       "      <th>...</th>\n",
       "      <td>...</td>\n",
       "      <td>...</td>\n",
       "    </tr>\n",
       "    <tr>\n",
       "      <th>506</th>\n",
       "      <td>3606</td>\n",
       "      <td>143.557806</td>\n",
       "    </tr>\n",
       "    <tr>\n",
       "      <th>507</th>\n",
       "      <td>3606</td>\n",
       "      <td>143.201022</td>\n",
       "    </tr>\n",
       "    <tr>\n",
       "      <th>508</th>\n",
       "      <td>3606</td>\n",
       "      <td>140.602095</td>\n",
       "    </tr>\n",
       "    <tr>\n",
       "      <th>509</th>\n",
       "      <td>3606</td>\n",
       "      <td>143.536803</td>\n",
       "    </tr>\n",
       "    <tr>\n",
       "      <th>510</th>\n",
       "      <td>3606</td>\n",
       "      <td>143.179978</td>\n",
       "    </tr>\n",
       "  </tbody>\n",
       "</table>\n",
       "<p>511 rows × 2 columns</p>\n",
       "</div>"
      ],
      "text/plain": [
       "     night  solarElong\n",
       "0        4  145.338864\n",
       "1        4  147.778819\n",
       "2        4  147.937473\n",
       "3        4  145.337569\n",
       "4        4  147.777527\n",
       "..     ...         ...\n",
       "506   3606  143.557806\n",
       "507   3606  143.201022\n",
       "508   3606  140.602095\n",
       "509   3606  143.536803\n",
       "510   3606  143.179978\n",
       "\n",
       "[511 rows x 2 columns]"
      ]
     },
     "execution_count": 20,
     "metadata": {},
     "output_type": "execute_result"
    }
   ],
   "source": [
    "df_night"
   ]
  },
  {
   "cell_type": "code",
   "execution_count": 14,
   "id": "1ed47d50-1d82-4c7d-8dde-f2e8d8472ba2",
   "metadata": {},
   "outputs": [
    {
     "data": {
      "text/plain": [
       "array([  17,   37,   49,  121,  221,  281,  285,  305,  321,  437,  470,\n",
       "        493,  505,  581,  589,  605,  641,  673,  677,  761,  809,  822,\n",
       "        853,  877,  882,  885,  905,  909,  921,  925,  929,  993, 1013,\n",
       "       1045, 1069, 1089, 1125, 1129, 1209, 1233, 1242, 1245, 1257, 1273,\n",
       "       1350, 1373, 1385, 1401, 1437, 1445, 1481, 1493, 1529, 1605, 1709,\n",
       "       1789, 1794, 1829, 1833, 1909, 1925, 1941, 1957, 2001, 2041, 2113,\n",
       "       2121, 2137, 2225, 2277, 2297, 2317, 2321, 2326, 2329, 2345, 2370,\n",
       "       2377, 2385, 2397, 2441, 2457, 2473, 2513, 2574, 2689, 2716, 2801,\n",
       "       2817, 2997, 3017, 3045, 3085, 3201, 3242, 3245, 3249, 3269, 3281,\n",
       "       3285, 3297, 3317, 3393, 3405, 3437, 3441, 3557, 3565, 3617, 3649])"
      ]
     },
     "execution_count": 14,
     "metadata": {},
     "output_type": "execute_result"
    }
   ],
   "source": [
    "np.unique(df[\"night\"])"
   ]
  },
  {
   "cell_type": "code",
   "execution_count": 21,
   "id": "4b05bea9-0eb0-40a2-a598-14f406ff1c00",
   "metadata": {},
   "outputs": [
    {
     "data": {
      "image/png": "[encoded data removed]",
      "text/plain": [
       "<Figure size 640x480 with 1 Axes>"
      ]
     },
     "metadata": {},
     "output_type": "display_data"
    }
   ],
   "source": [
    "_ack = plt.hist(df_twi[\"solarElong\"])"
   ]
  },
  {
   "cell_type": "code",
   "execution_count": 22,
   "id": "9b780962-53fe-453b-8d9e-cf5801e27d2b",
   "metadata": {},
   "outputs": [
    {
     "data": {
      "image/png": "[encoded data removed]",
      "text/plain": [
       "<Figure size 640x480 with 1 Axes>"
      ]
     },
     "metadata": {},
     "output_type": "display_data"
    }
   ],
   "source": [
    "_ack = plt.hist(df_night[\"solarElong\"])"
   ]
  },
  {
   "cell_type": "code",
   "execution_count": 10,
   "id": "cd0a2eaa-e0bf-44f5-b37c-d6547daa815c",
   "metadata": {},
   "outputs": [],
   "source": [
    "sso_e = gen_sso_events()"
   ]
  },
  {
   "cell_type": "code",
   "execution_count": 18,
   "id": "f2821c72-5aa9-403d-bb71-4361e0385975",
   "metadata": {},
   "outputs": [
    {
     "data": {
      "text/plain": [
       "(300,)"
      ]
     },
     "execution_count": 18,
     "metadata": {},
     "output_type": "execute_result"
    }
   ],
   "source": [
    "sso_e.shape"
   ]
  },
  {
   "cell_type": "code",
   "execution_count": null,
   "id": "55dfd2e8-6424-4d86-b9b9-6d6abd6e12ce",
   "metadata": {},
   "outputs": [],
   "source": []
  },
  {
   "cell_type": "code",
   "execution_count": null,
   "id": "b927d3ee-0139-40a2-acbf-22c27c98501c",
   "metadata": {},
   "outputs": [],
   "source": []
  }
 ],
 "metadata": {
  "kernelspec": {
   "display_name": "Python 3 (ipykernel)",
   "language": "python",
   "name": "python3"
  },
  "language_info": {
   "codemirror_mode": {
    "name": "ipython",
    "version": 3
   },
   "file_extension": ".py",
   "mimetype": "text/x-python",
   "name": "python",
   "nbconvert_exporter": "python",
   "pygments_lexer": "ipython3",
   "version": "3.11.8"
  }
 },
 "nbformat": 4,
 "nbformat_minor": 5
}
